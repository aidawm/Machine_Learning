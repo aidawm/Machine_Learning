{
 "cells": [
  {
   "cell_type": "markdown",
   "id": "9c0a87e3",
   "metadata": {},
   "source": [
    "# import libraries"
   ]
  },
  {
   "cell_type": "code",
   "execution_count": 17,
   "id": "a7b51424",
   "metadata": {},
   "outputs": [],
   "source": [
    "import numpy as np\n",
    "import matplotlib.pyplot as plt \n",
    "import pandas as pd\n",
    "from sklearn.linear_model import LinearRegression\n",
    "from sklearn.preprocessing import StandardScaler, PolynomialFeatures\n",
    "from sklearn.model_selection import train_test_split\n",
    "from sklearn.metrics import mean_squared_error"
   ]
  },
  {
   "cell_type": "markdown",
   "id": "a2858e8d",
   "metadata": {},
   "source": [
    "# import data"
   ]
  },
  {
   "cell_type": "code",
   "execution_count": 18,
   "id": "1c3b2b76",
   "metadata": {},
   "outputs": [
    {
     "data": {
      "text/html": [
       "<div>\n",
       "<style scoped>\n",
       "    .dataframe tbody tr th:only-of-type {\n",
       "        vertical-align: middle;\n",
       "    }\n",
       "\n",
       "    .dataframe tbody tr th {\n",
       "        vertical-align: top;\n",
       "    }\n",
       "\n",
       "    .dataframe thead th {\n",
       "        text-align: right;\n",
       "    }\n",
       "</style>\n",
       "<table border=\"1\" class=\"dataframe\">\n",
       "  <thead>\n",
       "    <tr style=\"text-align: right;\">\n",
       "      <th></th>\n",
       "      <th>0</th>\n",
       "      <th>1</th>\n",
       "    </tr>\n",
       "  </thead>\n",
       "  <tbody>\n",
       "    <tr>\n",
       "      <th>0</th>\n",
       "      <td>1651.000000</td>\n",
       "      <td>432.645217</td>\n",
       "    </tr>\n",
       "    <tr>\n",
       "      <th>1</th>\n",
       "      <td>1691.816327</td>\n",
       "      <td>454.935530</td>\n",
       "    </tr>\n",
       "    <tr>\n",
       "      <th>2</th>\n",
       "      <td>1732.632653</td>\n",
       "      <td>471.525248</td>\n",
       "    </tr>\n",
       "    <tr>\n",
       "      <th>3</th>\n",
       "      <td>1773.448980</td>\n",
       "      <td>482.506389</td>\n",
       "    </tr>\n",
       "    <tr>\n",
       "      <th>4</th>\n",
       "      <td>1814.265306</td>\n",
       "      <td>468.357886</td>\n",
       "    </tr>\n",
       "    <tr>\n",
       "      <th>5</th>\n",
       "      <td>1855.081633</td>\n",
       "      <td>482.152531</td>\n",
       "    </tr>\n",
       "    <tr>\n",
       "      <th>6</th>\n",
       "      <td>1895.897959</td>\n",
       "      <td>540.021756</td>\n",
       "    </tr>\n",
       "    <tr>\n",
       "      <th>7</th>\n",
       "      <td>1936.714286</td>\n",
       "      <td>534.584267</td>\n",
       "    </tr>\n",
       "    <tr>\n",
       "      <th>8</th>\n",
       "      <td>1977.530612</td>\n",
       "      <td>558.346208</td>\n",
       "    </tr>\n",
       "    <tr>\n",
       "      <th>9</th>\n",
       "      <td>2018.346939</td>\n",
       "      <td>566.423445</td>\n",
       "    </tr>\n",
       "    <tr>\n",
       "      <th>10</th>\n",
       "      <td>2059.163265</td>\n",
       "      <td>581.397651</td>\n",
       "    </tr>\n",
       "    <tr>\n",
       "      <th>11</th>\n",
       "      <td>2099.979592</td>\n",
       "      <td>596.458737</td>\n",
       "    </tr>\n",
       "    <tr>\n",
       "      <th>12</th>\n",
       "      <td>2140.795918</td>\n",
       "      <td>596.714832</td>\n",
       "    </tr>\n",
       "    <tr>\n",
       "      <th>13</th>\n",
       "      <td>2181.612245</td>\n",
       "      <td>619.451390</td>\n",
       "    </tr>\n",
       "    <tr>\n",
       "      <th>14</th>\n",
       "      <td>2222.428571</td>\n",
       "      <td>616.576265</td>\n",
       "    </tr>\n",
       "    <tr>\n",
       "      <th>15</th>\n",
       "      <td>2263.244898</td>\n",
       "      <td>653.162460</td>\n",
       "    </tr>\n",
       "    <tr>\n",
       "      <th>16</th>\n",
       "      <td>2304.061224</td>\n",
       "      <td>666.519921</td>\n",
       "    </tr>\n",
       "    <tr>\n",
       "      <th>17</th>\n",
       "      <td>2344.877551</td>\n",
       "      <td>670.589759</td>\n",
       "    </tr>\n",
       "    <tr>\n",
       "      <th>18</th>\n",
       "      <td>2385.693878</td>\n",
       "      <td>669.022887</td>\n",
       "    </tr>\n",
       "    <tr>\n",
       "      <th>19</th>\n",
       "      <td>2426.510204</td>\n",
       "      <td>678.909323</td>\n",
       "    </tr>\n",
       "    <tr>\n",
       "      <th>20</th>\n",
       "      <td>2467.326531</td>\n",
       "      <td>707.436964</td>\n",
       "    </tr>\n",
       "    <tr>\n",
       "      <th>21</th>\n",
       "      <td>2508.142857</td>\n",
       "      <td>710.760288</td>\n",
       "    </tr>\n",
       "    <tr>\n",
       "      <th>22</th>\n",
       "      <td>2548.959184</td>\n",
       "      <td>745.191341</td>\n",
       "    </tr>\n",
       "    <tr>\n",
       "      <th>23</th>\n",
       "      <td>2589.775510</td>\n",
       "      <td>729.845762</td>\n",
       "    </tr>\n",
       "    <tr>\n",
       "      <th>24</th>\n",
       "      <td>2630.591837</td>\n",
       "      <td>743.802922</td>\n",
       "    </tr>\n",
       "    <tr>\n",
       "      <th>25</th>\n",
       "      <td>2671.408163</td>\n",
       "      <td>738.202691</td>\n",
       "    </tr>\n",
       "    <tr>\n",
       "      <th>26</th>\n",
       "      <td>2712.224490</td>\n",
       "      <td>772.946122</td>\n",
       "    </tr>\n",
       "    <tr>\n",
       "      <th>27</th>\n",
       "      <td>2753.040816</td>\n",
       "      <td>772.217706</td>\n",
       "    </tr>\n",
       "    <tr>\n",
       "      <th>28</th>\n",
       "      <td>2793.857143</td>\n",
       "      <td>784.213812</td>\n",
       "    </tr>\n",
       "    <tr>\n",
       "      <th>29</th>\n",
       "      <td>2834.673469</td>\n",
       "      <td>776.432608</td>\n",
       "    </tr>\n",
       "    <tr>\n",
       "      <th>30</th>\n",
       "      <td>2875.489796</td>\n",
       "      <td>804.776264</td>\n",
       "    </tr>\n",
       "    <tr>\n",
       "      <th>31</th>\n",
       "      <td>2916.306122</td>\n",
       "      <td>833.272459</td>\n",
       "    </tr>\n",
       "    <tr>\n",
       "      <th>32</th>\n",
       "      <td>2957.122449</td>\n",
       "      <td>825.690370</td>\n",
       "    </tr>\n",
       "    <tr>\n",
       "      <th>33</th>\n",
       "      <td>2997.938776</td>\n",
       "      <td>821.053325</td>\n",
       "    </tr>\n",
       "    <tr>\n",
       "      <th>34</th>\n",
       "      <td>3038.755102</td>\n",
       "      <td>833.822037</td>\n",
       "    </tr>\n",
       "    <tr>\n",
       "      <th>35</th>\n",
       "      <td>3079.571429</td>\n",
       "      <td>833.061422</td>\n",
       "    </tr>\n",
       "    <tr>\n",
       "      <th>36</th>\n",
       "      <td>3120.387755</td>\n",
       "      <td>825.698074</td>\n",
       "    </tr>\n",
       "    <tr>\n",
       "      <th>37</th>\n",
       "      <td>3161.204082</td>\n",
       "      <td>843.577337</td>\n",
       "    </tr>\n",
       "    <tr>\n",
       "      <th>38</th>\n",
       "      <td>3202.020408</td>\n",
       "      <td>869.395517</td>\n",
       "    </tr>\n",
       "    <tr>\n",
       "      <th>39</th>\n",
       "      <td>3242.836735</td>\n",
       "      <td>851.503015</td>\n",
       "    </tr>\n",
       "    <tr>\n",
       "      <th>40</th>\n",
       "      <td>3283.653061</td>\n",
       "      <td>863.182557</td>\n",
       "    </tr>\n",
       "    <tr>\n",
       "      <th>41</th>\n",
       "      <td>3324.469388</td>\n",
       "      <td>853.006013</td>\n",
       "    </tr>\n",
       "    <tr>\n",
       "      <th>42</th>\n",
       "      <td>3365.285714</td>\n",
       "      <td>877.156754</td>\n",
       "    </tr>\n",
       "    <tr>\n",
       "      <th>43</th>\n",
       "      <td>3406.102041</td>\n",
       "      <td>863.741996</td>\n",
       "    </tr>\n",
       "    <tr>\n",
       "      <th>44</th>\n",
       "      <td>3446.918367</td>\n",
       "      <td>874.671942</td>\n",
       "    </tr>\n",
       "    <tr>\n",
       "      <th>45</th>\n",
       "      <td>3487.734694</td>\n",
       "      <td>877.736336</td>\n",
       "    </tr>\n",
       "    <tr>\n",
       "      <th>46</th>\n",
       "      <td>3528.551020</td>\n",
       "      <td>874.112598</td>\n",
       "    </tr>\n",
       "    <tr>\n",
       "      <th>47</th>\n",
       "      <td>3569.367347</td>\n",
       "      <td>882.803295</td>\n",
       "    </tr>\n",
       "    <tr>\n",
       "      <th>48</th>\n",
       "      <td>3610.183673</td>\n",
       "      <td>910.832721</td>\n",
       "    </tr>\n",
       "    <tr>\n",
       "      <th>49</th>\n",
       "      <td>3651.000000</td>\n",
       "      <td>897.420463</td>\n",
       "    </tr>\n",
       "  </tbody>\n",
       "</table>\n",
       "</div>"
      ],
      "text/plain": [
       "              0           1\n",
       "0   1651.000000  432.645217\n",
       "1   1691.816327  454.935530\n",
       "2   1732.632653  471.525248\n",
       "3   1773.448980  482.506389\n",
       "4   1814.265306  468.357886\n",
       "5   1855.081633  482.152531\n",
       "6   1895.897959  540.021756\n",
       "7   1936.714286  534.584267\n",
       "8   1977.530612  558.346208\n",
       "9   2018.346939  566.423445\n",
       "10  2059.163265  581.397651\n",
       "11  2099.979592  596.458737\n",
       "12  2140.795918  596.714832\n",
       "13  2181.612245  619.451390\n",
       "14  2222.428571  616.576265\n",
       "15  2263.244898  653.162460\n",
       "16  2304.061224  666.519921\n",
       "17  2344.877551  670.589759\n",
       "18  2385.693878  669.022887\n",
       "19  2426.510204  678.909323\n",
       "20  2467.326531  707.436964\n",
       "21  2508.142857  710.760288\n",
       "22  2548.959184  745.191341\n",
       "23  2589.775510  729.845762\n",
       "24  2630.591837  743.802922\n",
       "25  2671.408163  738.202691\n",
       "26  2712.224490  772.946122\n",
       "27  2753.040816  772.217706\n",
       "28  2793.857143  784.213812\n",
       "29  2834.673469  776.432608\n",
       "30  2875.489796  804.776264\n",
       "31  2916.306122  833.272459\n",
       "32  2957.122449  825.690370\n",
       "33  2997.938776  821.053325\n",
       "34  3038.755102  833.822037\n",
       "35  3079.571429  833.061422\n",
       "36  3120.387755  825.698074\n",
       "37  3161.204082  843.577337\n",
       "38  3202.020408  869.395517\n",
       "39  3242.836735  851.503015\n",
       "40  3283.653061  863.182557\n",
       "41  3324.469388  853.006013\n",
       "42  3365.285714  877.156754\n",
       "43  3406.102041  863.741996\n",
       "44  3446.918367  874.671942\n",
       "45  3487.734694  877.736336\n",
       "46  3528.551020  874.112598\n",
       "47  3569.367347  882.803295\n",
       "48  3610.183673  910.832721\n",
       "49  3651.000000  897.420463"
      ]
     },
     "execution_count": 18,
     "metadata": {},
     "output_type": "execute_result"
    }
   ],
   "source": [
    "data = pd.read_csv('model_selection_data.csv',header=None)\n",
    "data"
   ]
  },
  {
   "cell_type": "code",
   "execution_count": 19,
   "id": "2aa1b540",
   "metadata": {},
   "outputs": [],
   "source": [
    "x= np.array(data[0])\n",
    "y= np.array(data[1])\n",
    "x = np.expand_dims(x, axis=1)\n",
    "y = np.expand_dims(y, axis=1)"
   ]
  },
  {
   "cell_type": "code",
   "execution_count": 20,
   "id": "b688af6b",
   "metadata": {},
   "outputs": [
    {
     "data": {
      "text/plain": [
       "<matplotlib.collections.PathCollection at 0x7f7a448b2a00>"
      ]
     },
     "execution_count": 20,
     "metadata": {},
     "output_type": "execute_result"
    },
    {
     "data": {
      "image/png": "[encoded data removed]",
      "text/plain": [
       "<Figure size 432x288 with 1 Axes>"
      ]
     },
     "metadata": {
      "needs_background": "light"
     },
     "output_type": "display_data"
    }
   ],
   "source": [
    "plt.scatter(x,y)"
   ]
  },
  {
   "cell_type": "code",
   "execution_count": 21,
   "id": "e5550ba5",
   "metadata": {},
   "outputs": [],
   "source": [
    "x_train , x_evaluation , y_trian , y_evaluation = train_test_split(x,y,test_size=0.6,random_state=1)\n",
    "x_test , x_cv , y_test , y_cv = train_test_split(x_evaluation,y_evaluation,test_size=0.5,random_state=1)"
   ]
  },
  {
   "cell_type": "markdown",
   "id": "4253d2c1",
   "metadata": {},
   "source": [
    "# find best model selection"
   ]
  },
  {
   "cell_type": "markdown",
   "id": "8f136d6a",
   "metadata": {},
   "source": [
    "## usefull classes"
   ]
  },
  {
   "cell_type": "code",
   "execution_count": 22,
   "id": "d18f372c",
   "metadata": {},
   "outputs": [],
   "source": [
    "train_error = []\n",
    "cv_error = []\n",
    "model = []\n",
    "scaler_degree = []"
   ]
  },
  {
   "cell_type": "code",
   "execution_count": 23,
   "id": "27aa7caf",
   "metadata": {},
   "outputs": [],
   "source": [
    "for d in range(1,11,1):\n",
    "    \n",
    "    polynomial = PolynomialFeatures(d,include_bias=False)\n",
    "    x_poly = polynomial.fit_transform(x_train)\n",
    "    \n",
    "    scaler = StandardScaler()\n",
    "    x_scaled = scaler.fit_transform(x_poly)\n",
    "    scaler_degree.append(scaler)\n",
    "    \n",
    "    linear_model = LinearRegression()\n",
    "    linear_model.fit(x_scaled,y_trian)\n",
    "    model.append(linear_model)\n",
    "    \n",
    "    y_hat_train = linear_model.predict(x_scaled)\n",
    "    train_error.append(mean_squared_error(y_hat_train,y_trian))\n",
    "    \n",
    "    polynomial = PolynomialFeatures(d,include_bias=False)\n",
    "    x_cv_poly = polynomial.fit_transform(x_cv)\n",
    "    x_cv_scaled = scaler.transform(x_cv_poly)\n",
    "    y_hat_cv = linear_model.predict(x_cv_scaled)\n",
    "    cv_error.append(mean_squared_error(y_hat_cv,y_cv))\n",
    "                       "
   ]
  },
  {
   "cell_type": "code",
   "execution_count": 24,
   "id": "345a93e1",
   "metadata": {},
   "outputs": [
    {
     "data": {
      "image/png": "[encoded data removed]",
      "text/plain": [
       "<Figure size 432x288 with 1 Axes>"
      ]
     },
     "metadata": {
      "needs_background": "light"
     },
     "output_type": "display_data"
    }
   ],
   "source": [
    "degree = np.arange(1,11,1)\n",
    "plt.scatter(degree,cv_error)\n",
    "plt.scatter(degree,train_error)\n",
    "plt.xlabel(\"degree\")\n",
    "plt.ylabel(\"error\")\n",
    "plt.plot(degree,cv_error,'r')\n",
    "plt.plot(degree,train_error,'g')\n",
    "plt.show()"
   ]
  },
  {
   "cell_type": "code",
   "execution_count": 25,
   "id": "dc492cd7",
   "metadata": {},
   "outputs": [],
   "source": [
    "# best_model_index = cv_error.index(min(cv_error))\n",
    "best_model_index =3\n",
    "best_model_degree = best_model_index+1\n"
   ]
  },
  {
   "cell_type": "code",
   "execution_count": 26,
   "id": "478feef6",
   "metadata": {},
   "outputs": [],
   "source": [
    "polynomial = PolynomialFeatures(best_model_degree,include_bias=False)\n",
    "x_test_poly = polynomial.fit_transform(x_test)\n",
    "scaler_best_index= scaler_degree[best_model_index]\n",
    "x_test_scaled = scaler_best_index.transform(x_test_poly)\n",
    "y_test_hat = model[best_model_index].predict(x_test_scaled)"
   ]
  },
  {
   "cell_type": "code",
   "execution_count": 27,
   "id": "459d7eb4",
   "metadata": {},
   "outputs": [
    {
     "name": "stdout",
     "output_type": "stream",
     "text": [
      "best degree =  4\n",
      "mean square error of model =  147.82511193615204\n"
     ]
    }
   ],
   "source": [
    "print(\"best degree = \",best_model_degree)\n",
    "print(\"mean square error of model = \",mean_squared_error(y_test_hat,y_test))\n"
   ]
  },
  {
   "cell_type": "code",
   "execution_count": 28,
   "id": "46c64cc7",
   "metadata": {},
   "outputs": [
    {
     "data": {
      "image/png": "[encoded data removed]",
      "text/plain": [
       "<Figure size 432x288 with 1 Axes>"
      ]
     },
     "metadata": {
      "needs_background": "light"
     },
     "output_type": "display_data"
    }
   ],
   "source": [
    "plt.scatter(x_test,y_test)\n",
    "plt.plot(x_test,y_test_hat,'r')\n",
    "plt.xlabel(\"x\")\n",
    "plt.ylabel(\"y\")\n",
    "plt.show()"
   ]
  }
 ],
 "metadata": {
  "kernelspec": {
   "display_name": "Python 3 (ipykernel)",
   "language": "python",
   "name": "python3"
  },
  "language_info": {
   "codemirror_mode": {
    "name": "ipython",
    "version": 3
   },
   "file_extension": ".py",
   "mimetype": "text/x-python",
   "name": "python",
   "nbconvert_exporter": "python",
   "pygments_lexer": "ipython3",
   "version": "3.9.12"
  }
 },
 "nbformat": 4,
 "nbformat_minor": 5
}
